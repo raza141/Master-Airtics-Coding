{
 "cells": [
  {
   "cell_type": "markdown",
   "metadata": {},
   "source": [
    "#### Working With Data - Lecture 01. \n",
    "##### Why we use Python for Data Science? \n",
    "    1. Computer Understand Low Level Language (Binary)\n",
    "    2. High Level Language (Python) is easy to understand for human\n",
    "    3. Python is a general purpose language\n",
    "    4. Python is a open source language\n",
    "    5. Python is a cross platform language\n",
    "    6. Python is a interpreted language and object oriented language\n",
    "    7. Python is a dynamically typed language and it is a scripting language\n",
    "#### Every Language have different componends: \n",
    "    1. Input & Output\n",
    "        1.1 User will pass the input to the program and program will process the input and give the output\n",
    "    2. Data Types\n",
    "        2.1 Data Types are used to store the data in the memory\n",
    "            2.1.1 String (Alphabets, Numbers, Special Characters)\n",
    "            2.1.2 Integer (Whole Numbers)\n",
    "            2.1.3 Float (Decimal Numbers)\n",
    "            2.1.4 Complex (Real + Imaginary)\n",
    "            2.1.5 Boolean (True or False)\n",
    "            2.1.6 List (Collection of data e.g. [1,2,3,4,5])\n",
    "            2.1.7 Tuple (Collection of data e.g. (1,2,3,4,5)) only the difference is tuple is immutable\n",
    "            2.1.8 Dictionary (Collection of data e.g. {1: 'a', 2: 'b', 3: 'c'}) However it is not ordered and it is mutable.\n",
    "    3. Operators\n",
    "        3.1 Arithmetic Operators (+, -, *, /, %, //, **)\n",
    "        3.2 Assignment Operators (=, +=, -=, *=, /=, %=, //=, **=)\n",
    "        3.3 Comparison Operators (==, !=, >, <, >=, <=)\n",
    "        3.4 Logical Operators (and, or, not)\n",
    "        3.5 Bitwise Operators (&, |, ^, ~, <<, >>)\n",
    "        3.6 Identity Operators (is, is not) it check the memory location of data type and value \n",
    "        3.7 Membership Operators (in, not in) it check the value of data type if present or not \n",
    "    4. Conditional Statements\n",
    "        4.1 if \n",
    "        4.2 if else\n",
    "        4.3 if elif else\n",
    "    5. Looping Statements\n",
    "        5.1 for loop\n",
    "        5.2 while loop\n",
    "    6. Functions\n",
    "        6.1 Built-in Functions (e.g. print(), input(), type())\n",
    "        6.2 User Defined Functions (e.g. def func_name():)\n",
    "        6.3 Lambda Functions (e.g. lambda x: x**2)\n",
    "        6.4 Recursion Functions (e.g. def func_name(): func_name()) repeat the function itself \n",
    "    7. Classes\n",
    "        7.1 Class is a blueprint of an object\n",
    "        7.2 Object is a instance of a class\n",
    "        7.3 Class have two things\n",
    "            7.3.1 Attributes (Variables)\n",
    "            7.3.2 Methods (Functions)\n",
    "    8. Modules\n",
    "        8.1 Module is a python file which have some functions (e.g. math, random, datetime)\n",
    "    9. Packages\n",
    "        9.1 Package is a collection of modules (e.g. numpy, pandas, matplotlib, seaborn, sklearn)\n",
    "    10. Exception Handling\n",
    "        10.1 try\n",
    "        10.2 except\n",
    "        10.3 finally\n",
    "    11. File Handling\n",
    "        11.1 open\n",
    "        11.2 read\n",
    "        11.3 write\n",
    "        11.4 close\n",
    "        12. Regular Expression\n",
    "            12.1 re (e.g re.search(), re.match(), re.findall())\n",
    "    13. Database Connectivity\n",
    "        13.1 sqlite3 (e.g. import sqlite3) its a inbuilt module\n",
    "        13.2 pymysql (e.g. import pymysql) its a third party module\n",
    "    14. Multi Threading\n",
    "        14.1 Thread is a light weight process\n",
    "        14.2 Multi Threading is a process of executing multiple threads simultaneously (e.g. import threading)\n",
    "    15. Networking\n",
    "        15.1 socket (e.g. import socket) it is used to create a socket for communication with server\n",
    "        15.2 smtplib (e.g. import smtplib) it is used to send email from python\n",
    "        15.3 imaplib (e.g. import imaplib) it is used to receive email from python \n",
    "        15.4 ftplib (e.g. import ftplib) it is used to transfer file from python to server or server to python\n",
    "        15.5 urllib (e.g. import urllib) it is used to open a url from python \n",
    "\n",
    "\n",
    "\n",
    "\n"
   ]
  },
  {
   "cell_type": "markdown",
   "metadata": {},
   "source": []
  },
  {
   "cell_type": "markdown",
   "metadata": {},
   "source": [
    "\n",
    "#### IDE (Integrated Development Environment): \n",
    "    1. IED is a software application that provides comprehensive facilities to computer programmers for software development. \n",
    "    2. An IDE normally consists of a source code editor, build automation tools and a debugger. Most of the modern IDEs have intelligent code completion.\n",
    "    3. Example of Python IDE (e.g. Anaconda Navigator, PyCharm, Spyder, Jupyter Notebook, Google Colab, Visual Studio Code, Sublime Text, Atom, IDLE, etc.)"
   ]
  },
  {
   "cell_type": "markdown",
   "metadata": {},
   "source": [
    "### <u> Concatination: </u>\n",
    "\n",
    "We use concatination to join two or more strings together. or we can join str with variabe or we can join two or more variables together while printing.\n",
    "\n",
    "**Method**: \n",
    "\n",
    "    1. Using + operator sign (e.g print('Hello' + 'World')) This method is used for str only \n",
    "    2. Using , operator sign (e.g print('Hello', 'World')) This mehotd is used for str and variable both"
   ]
  },
  {
   "cell_type": "code",
   "execution_count": 4,
   "metadata": {},
   "outputs": [
    {
     "name": "stdout",
     "output_type": "stream",
     "text": [
      "5\n",
      "4\n",
      "3\n",
      "2\n",
      "1\n",
      "Go!\n"
     ]
    }
   ],
   "source": [
    "def countdown(n):\n",
    "    if n <= 0:\n",
    "        print(\"Go!\")\n",
    "    else:\n",
    "        print(n)\n",
    "        countdown(n - 1)\n",
    "\n",
    "# Call the recursive function\n",
    "countdown(5)\n"
   ]
  },
  {
   "cell_type": "markdown",
   "metadata": {},
   "source": []
  }
 ],
 "metadata": {
  "kernelspec": {
   "display_name": "base",
   "language": "python",
   "name": "python3"
  },
  "language_info": {
   "codemirror_mode": {
    "name": "ipython",
    "version": 3
   },
   "file_extension": ".py",
   "mimetype": "text/x-python",
   "name": "python",
   "nbconvert_exporter": "python",
   "pygments_lexer": "ipython3",
   "version": "3.10.12"
  },
  "orig_nbformat": 4
 },
 "nbformat": 4,
 "nbformat_minor": 2
}
